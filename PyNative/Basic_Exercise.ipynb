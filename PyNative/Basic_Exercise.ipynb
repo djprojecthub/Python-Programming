{
 "cells": [
  {
   "cell_type": "markdown",
   "metadata": {},
   "source": [
    "Exercise 1: Calculate the multiplication and sum of two numbers"
   ]
  },
  {
   "cell_type": "code",
   "execution_count": 6,
   "metadata": {},
   "outputs": [
    {
     "name": "stdout",
     "output_type": "stream",
     "text": [
      "Sum: 30 and Multiplication: 200\n"
     ]
    }
   ],
   "source": [
    "def operation(num1, num2):\n",
    "    multi = num1 * num2\n",
    "    sum = num1 + num2\n",
    "\n",
    "    print(\"Sum: {} and Multiplication: {}\".format(sum, multi))    \n",
    "\n",
    "operation(10,20)\n"
   ]
  },
  {
   "cell_type": "markdown",
   "metadata": {},
   "source": [
    "Exercise 2: Print the sum of the current number and the previous number"
   ]
  },
  {
   "cell_type": "code",
   "execution_count": 11,
   "metadata": {},
   "outputs": [
    {
     "name": "stdout",
     "output_type": "stream",
     "text": [
      "Current number 1 Previous number 0 Sum: 1\n",
      "Current number 2 Previous number 1 Sum: 3\n",
      "Current number 3 Previous number 2 Sum: 5\n",
      "Current number 4 Previous number 3 Sum: 7\n",
      "Current number 5 Previous number 4 Sum: 9\n",
      "Current number 6 Previous number 5 Sum: 11\n",
      "Current number 7 Previous number 6 Sum: 13\n",
      "Current number 8 Previous number 7 Sum: 15\n",
      "Current number 9 Previous number 8 Sum: 17\n"
     ]
    }
   ],
   "source": [
    "for i in range(1,10):\n",
    "        print(\"Current number {} Previous number {} Sum: {}\".format(i,i-1,(i+(i-1))))"
   ]
  },
  {
   "cell_type": "markdown",
   "metadata": {},
   "source": [
    "Exercise 3: Print characters from a string that are present at an even index number"
   ]
  },
  {
   "cell_type": "code",
   "execution_count": 10,
   "metadata": {},
   "outputs": [
    {
     "name": "stdout",
     "output_type": "stream",
     "text": [
      "Diwakar\n",
      "D\n",
      "w\n",
      "k\n",
      "r\n",
      "Use slicing..........\n",
      "D\n",
      "w\n",
      "k\n",
      "r\n"
     ]
    }
   ],
   "source": [
    "word = input(\"Enter input string: \")\n",
    "print(word)\n",
    "for i in range(len(word)):\n",
    "    if i % 2 == 0:\n",
    "        print(word[i])\n",
    "\n",
    "print(\"Use slicing..........\")\n",
    "for i in word[0::2]:\n",
    "    print(i)\n"
   ]
  },
  {
   "cell_type": "markdown",
   "metadata": {},
   "source": [
    "Exercise 4: Remove first n characters from a string"
   ]
  },
  {
   "cell_type": "code",
   "execution_count": 12,
   "metadata": {},
   "outputs": [
    {
     "name": "stdout",
     "output_type": "stream",
     "text": [
      "wakar\n"
     ]
    }
   ],
   "source": [
    "def remove_first_n_char(string, n):\n",
    "    return string[n:]\n",
    "\n",
    "res = remove_first_n_char(\"Diwakar\",2)\n",
    "print(res)"
   ]
  },
  {
   "cell_type": "markdown",
   "metadata": {},
   "source": [
    "Exercise 5: Check if the first and last number of a list is the same"
   ]
  },
  {
   "cell_type": "code",
   "execution_count": 14,
   "metadata": {},
   "outputs": [
    {
     "name": "stdout",
     "output_type": "stream",
     "text": [
      "False\n"
     ]
    }
   ],
   "source": [
    "def matchList(numList):\n",
    "    return True if numList[0] == numList[-1] else False\n",
    "\n",
    "numbers_x = [10, 20, 30, 40, 10]\n",
    "numbers_y = [75, 65, 35, 75, 30]\n",
    "print(matchList(numbers_y))\n"
   ]
  },
  {
   "cell_type": "markdown",
   "metadata": {},
   "source": [
    "Exercise 6: Display numbers divisible by 5 from a list"
   ]
  },
  {
   "cell_type": "code",
   "execution_count": 15,
   "metadata": {},
   "outputs": [
    {
     "data": {
      "text/plain": [
       "[10, 20, 55]"
      ]
     },
     "execution_count": 15,
     "metadata": {},
     "output_type": "execute_result"
    }
   ],
   "source": [
    "def divisibleBy5(numList):\n",
    "    return [n for n in numList if n % 5 == 0]\n",
    "\n",
    "given_list = [10, 20, 33, 46, 55]\n",
    "divisibleBy5(given_list)\n"
   ]
  },
  {
   "cell_type": "markdown",
   "metadata": {},
   "source": [
    "Exercise 7: Return the count of a given substring from a string"
   ]
  },
  {
   "cell_type": "code",
   "execution_count": 24,
   "metadata": {},
   "outputs": [
    {
     "name": "stdout",
     "output_type": "stream",
     "text": [
      "With built-in method.......\n",
      "2\n",
      "Without in-built method.......\n",
      "2\n"
     ]
    }
   ],
   "source": [
    "def countSubStr(str_x, substr):\n",
    "    print(\"With built-in method.......\")\n",
    "    return str_x.count(substr) \n",
    "\n",
    "def countSubStr_custom(statement, substr):\n",
    "    print(\"Without in-built method.......\")\n",
    "    count = 0\n",
    "    substr_length = len(substr)\n",
    "    for i in range(len(statement)-1):\n",
    "        count+= statement[i:i+substr_length] == substr\n",
    "    return count\n",
    "\n",
    "\n",
    "statement = \"Diwakar is good developer. Diwakar is a Data Engineer.\"\n",
    "substr = \"Diwakar\"\n",
    "print(countSubStr(statement, substr))\n",
    "print(countSubStr_custom(statement, substr))\n",
    "\n",
    "\n"
   ]
  },
  {
   "cell_type": "markdown",
   "metadata": {},
   "source": [
    "Exercise 8: Print the following pattern <br/>\n",
    "1 <br/>\n",
    "2 2 <br/>\n",
    "3 3 3 <br/>\n",
    "4 4 4 4 <br/>\n",
    "5 5 5 5 5 "
   ]
  },
  {
   "cell_type": "code",
   "execution_count": 33,
   "metadata": {},
   "outputs": [
    {
     "name": "stdout",
     "output_type": "stream",
     "text": [
      "1\n",
      "22\n",
      "333\n",
      "4444\n",
      "55555\n"
     ]
    }
   ],
   "source": [
    "for i in range(1,6):\n",
    "    print(str(i)*i)"
   ]
  },
  {
   "cell_type": "markdown",
   "metadata": {},
   "source": [
    "Exercise 9: Check Palindrome Number <br/>\n",
    "A palindrome number is a number that is the same after reverse. For example, 545, is the palindrome numbers"
   ]
  },
  {
   "cell_type": "code",
   "execution_count": 49,
   "metadata": {},
   "outputs": [
    {
     "name": "stdout",
     "output_type": "stream",
     "text": [
      "Palindrome\n",
      "Not Palindrome\n"
     ]
    }
   ],
   "source": [
    "def checkPalindrome(num):        \n",
    "    return \"Palindrome\" if str(num) == str(num)[::-1] else \"Not Palindrome\"\n",
    "\n",
    "def checkPalindrome_number(num):\n",
    "    original_num = num\n",
    "    reverse_num = 0\n",
    "    while num > 0:\n",
    "        reminder = num % 10\n",
    "        reverse_num = (reverse_num * 10) + reminder\n",
    "        num = num // 10\n",
    "    \n",
    "    return \"Palindrome\" if original_num == reverse_num else \"Not Palindrome\"\n",
    "\n",
    "print(checkPalindrome(212))\n",
    "print(checkPalindrome_number(541))\n",
    "\n",
    "\n",
    "\n",
    "\n"
   ]
  },
  {
   "cell_type": "code",
   "execution_count": null,
   "metadata": {},
   "outputs": [],
   "source": []
  }
 ],
 "metadata": {
  "kernelspec": {
   "display_name": "Python 3",
   "language": "python",
   "name": "python3"
  },
  "language_info": {
   "codemirror_mode": {
    "name": "ipython",
    "version": 3
   },
   "file_extension": ".py",
   "mimetype": "text/x-python",
   "name": "python",
   "nbconvert_exporter": "python",
   "pygments_lexer": "ipython3",
   "version": "3.11.4"
  },
  "orig_nbformat": 4
 },
 "nbformat": 4,
 "nbformat_minor": 2
}
