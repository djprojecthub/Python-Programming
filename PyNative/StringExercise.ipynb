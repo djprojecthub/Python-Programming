{
 "cells": [
  {
   "cell_type": "markdown",
   "metadata": {},
   "source": [
    "Exercise 1A: Create a string made of the first, middle and last character"
   ]
  },
  {
   "cell_type": "code",
   "execution_count": 24,
   "metadata": {},
   "outputs": [
    {
     "name": "stdout",
     "output_type": "stream",
     "text": [
      "Daa\n"
     ]
    }
   ],
   "source": [
    "str1 = \"Diwaka\"\n",
    "newStr = str1[0]+str1[len(str1)//2]+str1[-1]\n",
    "print(newStr)"
   ]
  },
  {
   "cell_type": "markdown",
   "metadata": {},
   "source": [
    "Exercise 1B: Create a string made of the middle three characters"
   ]
  },
  {
   "cell_type": "code",
   "execution_count": 1,
   "metadata": {},
   "outputs": [
    {
     "name": "stdout",
     "output_type": "stream",
     "text": [
      "Son\n"
     ]
    }
   ],
   "source": [
    "str1 = \"JaSonAy\"\n",
    "midIndex = len(str1)//2\n",
    "newStr = str1[midIndex-1] + str1[midIndex:midIndex+2]\n",
    "print(newStr)"
   ]
  },
  {
   "cell_type": "markdown",
   "metadata": {},
   "source": [
    "Exercise 2: Append new string in the middle of a given string"
   ]
  },
  {
   "cell_type": "code",
   "execution_count": 4,
   "metadata": {},
   "outputs": [
    {
     "name": "stdout",
     "output_type": "stream",
     "text": [
      "DiwJoshaka\n"
     ]
    }
   ],
   "source": [
    "def appendAtMid(givenString, newString):\n",
    "    mid = len(givenString)//2   \n",
    "    return givenString[:mid] + newString + givenString[mid:]\n",
    "\n",
    "result = appendAtMid(\"Diwaka\",\"Josh\")\n",
    "print(result)"
   ]
  },
  {
   "cell_type": "markdown",
   "metadata": {},
   "source": [
    "Exercise 3: Create a new string made of the first, middle, and last characters of each input string"
   ]
  },
  {
   "cell_type": "code",
   "execution_count": 5,
   "metadata": {},
   "outputs": [
    {
     "name": "stdout",
     "output_type": "stream",
     "text": [
      "IBdrat\n"
     ]
    }
   ],
   "source": [
    "def strFML(str1, str2):\n",
    "    return str1[0]+str2[0]+str1[len(str1)//2]+str2[len(str2)//2]+str1[-1]+str2[-1]\n",
    "\n",
    "result = strFML(\"India\",\"Bharat\")\n",
    "print(result)"
   ]
  },
  {
   "cell_type": "markdown",
   "metadata": {},
   "source": [
    "Exercise 4: Arrange string characters such that lowercase letters should come first"
   ]
  },
  {
   "cell_type": "code",
   "execution_count": 6,
   "metadata": {},
   "outputs": [
    {
     "name": "stdout",
     "output_type": "stream",
     "text": [
      "iwarDKA\n"
     ]
    }
   ],
   "source": [
    "def lowerFirst(str):\n",
    "    res = \"\"\n",
    "    for i in str:\n",
    "        if i.islower():\n",
    "            res = res + i\n",
    "    \n",
    "    for i in str:\n",
    "        if i not in res:\n",
    "            res = res + i\n",
    "\n",
    "    return res\n",
    "\n",
    "result = lowerFirst(\"DiwaKAr\")\n",
    "print(result)"
   ]
  },
  {
   "cell_type": "markdown",
   "metadata": {},
   "source": [
    "Another Way"
   ]
  },
  {
   "cell_type": "code",
   "execution_count": 8,
   "metadata": {},
   "outputs": [
    {
     "name": "stdout",
     "output_type": "stream",
     "text": [
      "iwaarDK\n"
     ]
    }
   ],
   "source": [
    "def lowerFirst1(str):\n",
    "    lower = []\n",
    "    upper = []\n",
    "    for i in str:\n",
    "        if i.islower():\n",
    "            lower.append(i)\n",
    "        else:\n",
    "            upper.append(i)\n",
    "    return \"\".join(lower+upper)\n",
    "\n",
    "result = lowerFirst1(\"DiwaKar\")\n",
    "print(result)"
   ]
  },
  {
   "cell_type": "markdown",
   "metadata": {},
   "source": [
    "Exercise 5: Count all letters, digits, and special symbols from a given string"
   ]
  },
  {
   "cell_type": "code",
   "execution_count": 10,
   "metadata": {},
   "outputs": [
    {
     "name": "stdout",
     "output_type": "stream",
     "text": [
      "Chars : 7, Digit : 3, Symbol : 3\n"
     ]
    }
   ],
   "source": [
    "def countCharType(str):\n",
    "    chars = 0\n",
    "    digit = 0\n",
    "    symbol = 0\n",
    "\n",
    "    for i in str:\n",
    "        if i.isdigit():\n",
    "            digit+=1\n",
    "        elif i.isalpha():\n",
    "            chars+=1\n",
    "        else:\n",
    "            symbol+=1\n",
    "    return chars,digit,symbol\n",
    "\n",
    "chars,digit,symbol = countCharType(\"Di@w1#ak9&a4r\")\n",
    "print(\"Chars : {}, Digit : {}, Symbol : {}\".format(chars,digit,symbol))"
   ]
  },
  {
   "cell_type": "markdown",
   "metadata": {},
   "source": [
    "Exercise 6: Create a mixed String using the following rules:\n",
    "\n",
    "Given two strings, s1 and s2. Write a program to create a new string s3 made of the first char of s1,\n",
    "then the last char of s2.<br/> Next, the second char of s1 and second last char of s2, and so on. Any leftover chars go at the end of the result."
   ]
  },
  {
   "cell_type": "code",
   "execution_count": 13,
   "metadata": {},
   "outputs": [
    {
     "name": "stdout",
     "output_type": "stream",
     "text": [
      "AzbycXd\n"
     ]
    }
   ],
   "source": [
    "def mixedStr(str1,str2):\n",
    "    revStr2 = str2[::-1]\n",
    "    newStr = \"\"\n",
    "    str1_length = len(str1)\n",
    "    str2_length = len(str2)\n",
    "\n",
    "    l = str1_length if str1_length > str2_length else str2_length\n",
    "   \n",
    "    for i in range(l):\n",
    "        if i < str1_length:\n",
    "            newStr = newStr + str1[i] \n",
    "        if i < str2_length:\n",
    "            newStr = newStr + revStr2[i]\n",
    "\n",
    "    return newStr     \n",
    "\n",
    "result = mixedStr(\"Abcd\",\"Xyz\")\n",
    "print(result)"
   ]
  },
  {
   "cell_type": "markdown",
   "metadata": {},
   "source": [
    "Exercise 7: String characters balance Test <br/><br/>\n",
    "Write a program to check if two strings are balanced. For example, strings s1 and s2 are balanced if all the characters in the s1 are present in s2.<br/> The character’s position doesn’t matter."
   ]
  },
  {
   "cell_type": "code",
   "execution_count": 15,
   "metadata": {},
   "outputs": [
    {
     "name": "stdout",
     "output_type": "stream",
     "text": [
      "Balanced\n"
     ]
    }
   ],
   "source": [
    "def balanceTest(s1, s2):\n",
    "    missing = 0\n",
    "\n",
    "    for c in s1:\n",
    "        if c not in s2:\n",
    "            missing+=1\n",
    "    \n",
    "    return \"Unbalanced\" if missing > 0 else \"Balanced\"\n",
    "\n",
    "result = balanceTest(\"Diwa\", \"Diwakar\")\n",
    "print(result)"
   ]
  },
  {
   "cell_type": "markdown",
   "metadata": {},
   "source": [
    "Exercise 8: Find all occurrences of a substring in a given string by ignoring the case"
   ]
  },
  {
   "cell_type": "code",
   "execution_count": 17,
   "metadata": {},
   "outputs": [
    {
     "name": "stdout",
     "output_type": "stream",
     "text": [
      "2\n"
     ]
    }
   ],
   "source": [
    "def occrrences(str1,subStr):\n",
    "    return str1.lower().count(subStr.lower())   # lower() matches the case\n",
    "\n",
    "\n",
    "result = occrrences(\"Welcome to INDIA. INDIA is incredible, isn't it?\",\"INDIA\")\n",
    "print(result)"
   ]
  },
  {
   "cell_type": "markdown",
   "metadata": {},
   "source": [
    "Exercise 9: Calculate the sum and average of the digits present in a string"
   ]
  },
  {
   "cell_type": "code",
   "execution_count": 12,
   "metadata": {},
   "outputs": [
    {
     "name": "stdout",
     "output_type": "stream",
     "text": [
      "Sum : 23 and Average : 5.75\n"
     ]
    }
   ],
   "source": [
    "def calculate(str):\n",
    "    strDigits = \"\"\n",
    "    total = 0\n",
    "    cnt = 0\n",
    "    for c in str:\n",
    "        if c.isdigit():\n",
    "            total = total + int(c) \n",
    "            cnt += 1   \n",
    "   \n",
    "    avg = total / cnt\n",
    "    return total, avg\n",
    "\n",
    "total, avg = calculate(\"Di19wak9a4r\")\n",
    "print(\"Sum : {} and Average : {}\".format(total, avg))"
   ]
  },
  {
   "cell_type": "markdown",
   "metadata": {},
   "source": [
    "Another Way"
   ]
  },
  {
   "cell_type": "code",
   "execution_count": 2,
   "metadata": {},
   "outputs": [
    {
     "name": "stdout",
     "output_type": "stream",
     "text": [
      "Digits:  [1, 9, 9, 4]\n",
      "Total:  23 Average:  5.75\n"
     ]
    }
   ],
   "source": [
    "import re\n",
    "\n",
    "inputStr = \"Di19wak9a4r\"\n",
    "digit_list = [int(digit) for digit in re.findall(r'\\d', inputStr)] \n",
    "\n",
    "print(\"Digits: \",digit_list)\n",
    "\n",
    "total = sum(digit_list)\n",
    "average = total/len(digit_list)\n",
    "\n",
    "print(\"Total: \",total, \"Average: \",average)"
   ]
  },
  {
   "cell_type": "markdown",
   "metadata": {},
   "source": [
    "Exercise 10: Write a program to count occurrences of all characters within a string"
   ]
  },
  {
   "cell_type": "code",
   "execution_count": 3,
   "metadata": {},
   "outputs": [
    {
     "name": "stdout",
     "output_type": "stream",
     "text": [
      "{'D': 1, 'i': 1, 'w': 1, 'a': 2, 'k': 1, 'r': 1}\n"
     ]
    }
   ],
   "source": [
    "def countChars(str):\n",
    "    charCountDict = dict()\n",
    "\n",
    "    for i in str:\n",
    "        if i not in charCountDict:\n",
    "            charCountDict[i] = str.count(i)\n",
    "\n",
    "    return charCountDict\n",
    "\n",
    "result = countChars(\"Diwakar\")\n",
    "print(result)"
   ]
  },
  {
   "cell_type": "markdown",
   "metadata": {},
   "source": [
    "Exercise 11: Reverse a given string"
   ]
  },
  {
   "cell_type": "code",
   "execution_count": 4,
   "metadata": {},
   "outputs": [
    {
     "name": "stdout",
     "output_type": "stream",
     "text": [
      "ihsoJ rakawiD\n"
     ]
    }
   ],
   "source": [
    "input = \"Diwakar Joshi\"\n",
    "print(input[::-1])"
   ]
  },
  {
   "cell_type": "markdown",
   "metadata": {},
   "source": [
    "Exercise 12: Find the last position of a given substring"
   ]
  },
  {
   "cell_type": "code",
   "execution_count": 5,
   "metadata": {},
   "outputs": [
    {
     "data": {
      "text/plain": [
       "46"
      ]
     },
     "execution_count": 5,
     "metadata": {},
     "output_type": "execute_result"
    }
   ],
   "source": [
    "str1 = \"Diwakar is a data scientist who knows Python. Diwakar works at KPMG.\"\n",
    "substr = \"Diwakar\"\n",
    "\n",
    "str1.rfind(substr)"
   ]
  },
  {
   "cell_type": "markdown",
   "metadata": {},
   "source": [
    "Exercise 13: Split a string on hyphens"
   ]
  },
  {
   "cell_type": "code",
   "execution_count": 7,
   "metadata": {},
   "outputs": [
    {
     "name": "stdout",
     "output_type": "stream",
     "text": [
      "Diwakar is a data scientist\n"
     ]
    }
   ],
   "source": [
    "str1 = \"Diwakar-is-a-data-scientist\"\n",
    "\n",
    "splitted = str1.split(\"-\")\n",
    "\n",
    "print(\" \".join(splitted))"
   ]
  },
  {
   "cell_type": "markdown",
   "metadata": {},
   "source": [
    "Exercise 14: Remove empty strings from a list of strings"
   ]
  },
  {
   "cell_type": "code",
   "execution_count": 17,
   "metadata": {},
   "outputs": [
    {
     "name": "stdout",
     "output_type": "stream",
     "text": [
      "['Aman', 'Lalit', 'Piyush', 'Nimesh']\n"
     ]
    }
   ],
   "source": [
    "str_list = [\"Aman\", \"Lalit\", \"\", \"Piyush\", None, \"Nimesh\", \"\"]\n",
    "new_list = []\n",
    "for s in str_list:\n",
    "    if s:\n",
    "        new_list.append(s)\n",
    "print(new_list)"
   ]
  },
  {
   "cell_type": "markdown",
   "metadata": {},
   "source": [
    "Exercise 15: Remove special symbols / punctuation from a string"
   ]
  },
  {
   "cell_type": "code",
   "execution_count": 25,
   "metadata": {},
   "outputs": [
    {
     "name": "stdout",
     "output_type": "stream",
     "text": [
      "Jon is developer  musician\n"
     ]
    }
   ],
   "source": [
    "str1 = \"/*Jon is @developer & musician\"\n",
    "newStr = \"\"\n",
    "for i in str1:\n",
    "    ascii_val = ord(i)\n",
    "    if (ascii_val >= 97 and ascii_val <= 122) or (ascii_val >= 65 and ascii_val <= 90) or i == \" \":\n",
    "        newStr = newStr + i\n",
    "\n",
    "print(newStr)"
   ]
  },
  {
   "cell_type": "code",
   "execution_count": 28,
   "metadata": {},
   "outputs": [
    {
     "name": "stdout",
     "output_type": "stream",
     "text": [
      "!\"#$%&'()*+,-./:;<=>?@[\\]^_`{|}~\n",
      "{33: None, 34: None, 35: None, 36: None, 37: None, 38: None, 39: None, 40: None, 41: None, 42: None, 43: None, 44: None, 45: None, 46: None, 47: None, 58: None, 59: None, 60: None, 61: None, 62: None, 63: None, 64: None, 91: None, 92: None, 93: None, 94: None, 95: None, 96: None, 123: None, 124: None, 125: None, 126: None}\n"
     ]
    }
   ],
   "source": [
    "import string\n",
    "\n",
    "print(string.punctuation)\n",
    "print(str.maketrans('', '', string.punctuation))"
   ]
  },
  {
   "cell_type": "markdown",
   "metadata": {},
   "source": [
    "Exercise 16: Removal all characters from a string except integers"
   ]
  },
  {
   "cell_type": "code",
   "execution_count": 35,
   "metadata": {},
   "outputs": [
    {
     "name": "stdout",
     "output_type": "stream",
     "text": [
      "2510\n"
     ]
    }
   ],
   "source": [
    "def removeExceptInteger(str):\n",
    "    stringList = str.split(\" \")\n",
    "    newList = \"\"\n",
    "    for s in stringList:\n",
    "        newList+=s if s.isdigit() else \"\"            \n",
    "    return newList\n",
    "\n",
    "result = removeExceptInteger('I am 29 years and 15 days old')\n",
    "print(result)"
   ]
  },
  {
   "cell_type": "markdown",
   "metadata": {},
   "source": [
    "Exercise 17: Find words with both alphabets and numbers"
   ]
  },
  {
   "cell_type": "code",
   "execution_count": 39,
   "metadata": {},
   "outputs": [
    {
     "name": "stdout",
     "output_type": "stream",
     "text": [
      "['Diwakar25', 'scientist50']\n"
     ]
    }
   ],
   "source": [
    "def findAlphaNum(str):\n",
    "    words = str.split(\" \")\n",
    "    alphaNumList = []\n",
    "    for w in words:\n",
    "        if any([char.isdigit() for char in w]) and any([char.isalpha() for char in w]):\n",
    "            alphaNumList.append(w)\n",
    "    return alphaNumList\n",
    "\n",
    "print(findAlphaNum(\"Diwakar25 is Data scientist50 and AI Expert\"))"
   ]
  },
  {
   "cell_type": "markdown",
   "metadata": {},
   "source": [
    "Login of any() in Python : if any single value in iterable is True returns True else returns False <br/>\n",
    "Login of all() in Python : if all values in iterable are True returns True else returns False"
   ]
  },
  {
   "cell_type": "code",
   "execution_count": 36,
   "metadata": {},
   "outputs": [
    {
     "name": "stdout",
     "output_type": "stream",
     "text": [
      "[False, False, False, False, False, False, False, False, False, False, False, False, False, False, False, False, False, False, True, True, True]\n",
      "True\n"
     ]
    }
   ],
   "source": [
    "my_string = \"coding**is**cool**345\"\n",
    "are_there_digits = [char.isdigit() for char in my_string]\n",
    "print(are_there_digits)\n",
    "print(any(are_there_digits)) "
   ]
  },
  {
   "cell_type": "code",
   "execution_count": 41,
   "metadata": {},
   "outputs": [
    {
     "name": "stdout",
     "output_type": "stream",
     "text": [
      "[True, True, True, True, True]\n",
      "True\n"
     ]
    }
   ],
   "source": [
    "my_string = \"54321\"\n",
    "all_digits = [char.isdigit() for char in my_string]\n",
    "print(all_digits)\n",
    "print(all(all_digits))"
   ]
  },
  {
   "cell_type": "markdown",
   "metadata": {},
   "source": [
    "Exercise 18: Replace each special symbol with # in the following string"
   ]
  },
  {
   "cell_type": "code",
   "execution_count": 43,
   "metadata": {},
   "outputs": [
    {
     "name": "stdout",
     "output_type": "stream",
     "text": [
      "##Diwakar is #developer # fitness enthusiast##\n"
     ]
    }
   ],
   "source": [
    "import string\n",
    "\n",
    "str1 = '/*Diwakar is @developer & fitness enthusiast!!'\n",
    "punctutaions = string.punctuation\n",
    "replace_chr = '#'\n",
    "\n",
    "for char in str1:\n",
    "    if char in punctutaions:\n",
    "        str1 = str1.replace(char, replace_chr)\n",
    "\n",
    "print(str1)\n"
   ]
  }
 ],
 "metadata": {
  "kernelspec": {
   "display_name": "Python 3",
   "language": "python",
   "name": "python3"
  },
  "language_info": {
   "codemirror_mode": {
    "name": "ipython",
    "version": 3
   },
   "file_extension": ".py",
   "mimetype": "text/x-python",
   "name": "python",
   "nbconvert_exporter": "python",
   "pygments_lexer": "ipython3",
   "version": "3.11.4"
  },
  "orig_nbformat": 4
 },
 "nbformat": 4,
 "nbformat_minor": 2
}
