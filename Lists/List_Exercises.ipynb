{
 "cells": [
  {
   "cell_type": "markdown",
   "metadata": {},
   "source": [
    "1.  Given a list, write a Python program to swap first and last element of the list.\n",
    "\n",
    "    Examples: \n",
    "\n",
    "    Input : [12, 35, 9, 56, 24]\n",
    "    Output : [24, 35, 9, 56, 12]\n",
    "\n",
    "    Input : [1, 2, 3]\n",
    "    Output : [3, 2, 1]"
   ]
  },
  {
   "cell_type": "code",
   "execution_count": 5,
   "metadata": {},
   "outputs": [
    {
     "name": "stdout",
     "output_type": "stream",
     "text": [
      "['24', '35', '9', '56', '12']\n"
     ]
    }
   ],
   "source": [
    "# approach 1\n",
    "def swapList(l):\n",
    "    temp = l[0]\n",
    "    l[0] = l[-1]\n",
    "    l[-1] = temp\n",
    "    return l\n",
    "\n",
    "inputList = input(\"Enter list elements to swap:\") # Note: input is always of datatype string\n",
    "print(swapList(inputList.split(\",\")))"
   ]
  },
  {
   "cell_type": "code",
   "execution_count": 6,
   "metadata": {},
   "outputs": [
    {
     "name": "stdout",
     "output_type": "stream",
     "text": [
      "['5', '2', '3', '4', '1']\n"
     ]
    }
   ],
   "source": [
    "# approach 2\n",
    "def swapList(l):\n",
    "    l[0], l[-1] = l[-1], l[0]\n",
    "    return l\n",
    "\n",
    "inputList = input(\"Enter list elements to swap:\") # Note: input is always of datatype string\n",
    "print(swapList(inputList.split(\",\")))"
   ]
  },
  {
   "cell_type": "code",
   "execution_count": 8,
   "metadata": {},
   "outputs": [
    {
     "name": "stdout",
     "output_type": "stream",
     "text": [
      "('1', '4')\n",
      "['4', '2', '3', '1']\n"
     ]
    }
   ],
   "source": [
    "# approach 3 - Pack, Unpack\n",
    "def swapList(l):\n",
    "    get = l[0], l[-1] # creates a tuple\n",
    "    print(get)\n",
    "    l[-1], l[0] = get # assigns tuple elements to list indexes\n",
    "    return l\n",
    "\n",
    "inputList = input(\"Enter list elements to swap:\") # Note: input is always of datatype string\n",
    "print(swapList(inputList.split(\",\")))\n"
   ]
  }
 ],
 "metadata": {
  "kernelspec": {
   "display_name": "Python 3",
   "language": "python",
   "name": "python3"
  },
  "language_info": {
   "codemirror_mode": {
    "name": "ipython",
    "version": 3
   },
   "file_extension": ".py",
   "mimetype": "text/x-python",
   "name": "python",
   "nbconvert_exporter": "python",
   "pygments_lexer": "ipython3",
   "version": "3.11.4"
  },
  "orig_nbformat": 4
 },
 "nbformat": 4,
 "nbformat_minor": 2
}
