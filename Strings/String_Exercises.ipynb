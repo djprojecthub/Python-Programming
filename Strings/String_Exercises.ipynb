{
 "cells": [
  {
   "cell_type": "markdown",
   "metadata": {},
   "source": [
    "1.  Given a string the task is to check if the string is symmetrical and palindrome or not. A string is said to be symmetrical if both the halves of the string are the same and a string is said to be a palindrome string if one half of the string is the reverse of the other half or if a string appears same when read forward or backward.\n",
    "\n",
    "    Example: \n",
    "\n",
    "    Input: khokho <br/>\n",
    "    Output: <br/>\n",
    "    The entered string is symmetrical <br/>\n",
    "    The entered string is not palindrome\n",
    "\n",
    "    Input: amaama <br/>\n",
    "    Output: <br/>\n",
    "    The entered string is symmetrical <br/>\n",
    "    The entered string is palindrome"
   ]
  },
  {
   "cell_type": "code",
   "execution_count": 14,
   "metadata": {},
   "outputs": [
    {
     "name": "stdout",
     "output_type": "stream",
     "text": [
      "The entered string is palindrome\n",
      "The entered string is symmetrical\n"
     ]
    }
   ],
   "source": [
    "def checkPalindrome(str, half):\n",
    "    if str == str[::-1]:\n",
    "        print(\"The entered string is palindrome\") \n",
    "    else:\n",
    "        print(\"The entered string is not palindrome\")\n",
    "\n",
    "def checkSymmetrical(str, half):\n",
    "    if str[:half] == str[half:] :\n",
    "        print(\"The entered string is symmetrical\")\n",
    "    else:\n",
    "        print(\"The entered string is not symmetrical\")\n",
    "\n",
    "inputStr = \"amaama\"\n",
    "halfIndex = len(inputStr)//2\n",
    "\n",
    "checkPalindrome(inputStr, halfIndex)\n",
    "checkSymmetrical(inputStr, halfIndex)\n"
   ]
  }
 ],
 "metadata": {
  "kernelspec": {
   "display_name": "Python 3",
   "language": "python",
   "name": "python3"
  },
  "language_info": {
   "codemirror_mode": {
    "name": "ipython",
    "version": 3
   },
   "file_extension": ".py",
   "mimetype": "text/x-python",
   "name": "python",
   "nbconvert_exporter": "python",
   "pygments_lexer": "ipython3",
   "version": "3.11.4"
  },
  "orig_nbformat": 4
 },
 "nbformat": 4,
 "nbformat_minor": 2
}
