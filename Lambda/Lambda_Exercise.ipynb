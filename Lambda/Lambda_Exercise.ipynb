{
 "cells": [
  {
   "cell_type": "markdown",
   "metadata": {},
   "source": [
    "### <b>Lambda</b> function is a function without a name which can have any number of arguments but must have a return value"
   ]
  },
  {
   "cell_type": "markdown",
   "metadata": {},
   "source": [
    "1.  Lambda with if but without else will give error which proves that lambda function must return a value. Uncomment below line and run."
   ]
  },
  {
   "cell_type": "code",
   "execution_count": 1,
   "metadata": {},
   "outputs": [
    {
     "ename": "SyntaxError",
     "evalue": "expected 'else' after 'if' expression (2621669993.py, line 1)",
     "output_type": "error",
     "traceback": [
      "\u001b[1;36m  Cell \u001b[1;32mIn[1], line 1\u001b[1;36m\u001b[0m\n\u001b[1;33m    square = lambda x: x * x if (x > 0)\u001b[0m\n\u001b[1;37m                       ^\u001b[0m\n\u001b[1;31mSyntaxError\u001b[0m\u001b[1;31m:\u001b[0m expected 'else' after 'if' expression\n"
     ]
    }
   ],
   "source": [
    "# square = lambda x: x * x if (x > 0)"
   ]
  },
  {
   "cell_type": "code",
   "execution_count": 3,
   "metadata": {},
   "outputs": [
    {
     "data": {
      "text/plain": [
       "36"
      ]
     },
     "execution_count": 3,
     "metadata": {},
     "output_type": "execute_result"
    }
   ],
   "source": [
    "square = lambda x: x * x if (x > 0) else None\n",
    "square(6)"
   ]
  },
  {
   "cell_type": "markdown",
   "metadata": {},
   "source": [
    "2.  Sorting string using order defined by another string.\n",
    "\n",
    "    Given two strings (of lowercase letters), a pattern and a string. The task is to sort string according to the order defined by pattern<br/>and return the reverse of it. It may be assumed that pattern has all characters of the string and all characters in pattern appear only once. <br/>Examples:\n",
    "    \n",
    "    Input : pat = \"asbcklfdmegnot\", str = \"eksge\" \n",
    "    Output : str = \"geeks\"\n",
    "    (after sorting, str becomes \"skeeg\" and return its reverse)\n",
    "\n",
    "    Input : pat = \"mgewqnasibkldjxruohypzcftv\", str = \"niocgd\"\n",
    "    Output : str = \"coding\""
   ]
  },
  {
   "cell_type": "code",
   "execution_count": 14,
   "metadata": {},
   "outputs": [
    {
     "name": "stdout",
     "output_type": "stream",
     "text": [
      "{'a': 0, 's': 1, 'b': 2, 'c': 3, 'k': 4, 'l': 5, 'f': 6, 'd': 7, 'm': 8, 'e': 9, 'g': 10, 'n': 11, 'o': 12, 't': 13}\n",
      "['e', 'k', 's', 'g', 'e']\n",
      "skeeg\n"
     ]
    }
   ],
   "source": [
    "def sortByPattern(pat, str):\n",
    "    # first create a dictionary according to the index provided in pattern\n",
    "    pat_list = list(pat)\n",
    "    pat_dict = {pat_list[i] : i for i in range(len(pat_list))}\n",
    "    print(pat_dict)\n",
    "    str = list(str)\n",
    "    print(str)\n",
    "    str.sort(key = lambda x: pat_dict[x])\n",
    "    return ''.join(str)\n",
    "\n",
    "pat = \"asbcklfdmegnot\"\n",
    "str = \"eksge\"\n",
    "result = sortByPattern(pat, str)\n",
    "print(result)\n",
    "\n",
    "# print(result)\n"
   ]
  }
 ],
 "metadata": {
  "kernelspec": {
   "display_name": "Python 3",
   "language": "python",
   "name": "python3"
  },
  "language_info": {
   "codemirror_mode": {
    "name": "ipython",
    "version": 3
   },
   "file_extension": ".py",
   "mimetype": "text/x-python",
   "name": "python",
   "nbconvert_exporter": "python",
   "pygments_lexer": "ipython3",
   "version": "3.11.4"
  },
  "orig_nbformat": 4
 },
 "nbformat": 4,
 "nbformat_minor": 2
}
