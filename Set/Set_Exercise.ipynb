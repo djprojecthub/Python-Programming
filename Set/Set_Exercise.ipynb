{
 "cells": [
  {
   "cell_type": "markdown",
   "metadata": {},
   "source": [
    "##### A <b>Set</b> is an unordered collection data type that is iterable, mutable, and has no duplicate elements."
   ]
  },
  {
   "cell_type": "markdown",
   "metadata": {},
   "source": [
    "1.  Iterate over a set"
   ]
  },
  {
   "cell_type": "code",
   "execution_count": 5,
   "metadata": {},
   "outputs": [
    {
     "name": "stdout",
     "output_type": "stream",
     "text": [
      "r\n",
      "w\n",
      "a\n",
      "k\n",
      "d\n",
      "i\n"
     ]
    }
   ],
   "source": [
    "test_set = set(\"diwakar\")\n",
    "for val in test_set:\n",
    "    print(val)"
   ]
  },
  {
   "cell_type": "code",
   "execution_count": 6,
   "metadata": {},
   "outputs": [
    {
     "name": "stdout",
     "output_type": "stream",
     "text": [
      "joshi\n",
      "diwakar\n"
     ]
    }
   ],
   "source": [
    "test_list = [\"diwakar\",\"joshi\"]\n",
    "test_set = set(test_list)\n",
    "for val in test_set:\n",
    "    print(val)"
   ]
  },
  {
   "cell_type": "markdown",
   "metadata": {},
   "source": [
    "2.  Maximum and minimum in a Set <br/>\n",
    "\n",
    "    Input : set = ([8, 16, 24, 1, 25, 3, 10, 65, 55]) <br/>\n",
    "    Output : max is 65 <br/>\n",
    "\n",
    "    Input : set = ([4, 12, 10, 9, 4, 13]) <br/>\n",
    "    Output : min is 4 <br/>"
   ]
  },
  {
   "cell_type": "code",
   "execution_count": 8,
   "metadata": {},
   "outputs": [
    {
     "name": "stdout",
     "output_type": "stream",
     "text": [
      "Max is : 65 and Min is : 1\n"
     ]
    }
   ],
   "source": [
    "inputSet = ([8, 16, 24, 1, 25, 3, 10, 65, 55])\n",
    "print(f\"Max is : {max(inputSet)} and Min is : {min(inputSet)}\")"
   ]
  }
 ],
 "metadata": {
  "kernelspec": {
   "display_name": "Python 3",
   "language": "python",
   "name": "python3"
  },
  "language_info": {
   "codemirror_mode": {
    "name": "ipython",
    "version": 3
   },
   "file_extension": ".py",
   "mimetype": "text/x-python",
   "name": "python",
   "nbconvert_exporter": "python",
   "pygments_lexer": "ipython3",
   "version": "3.11.4"
  },
  "orig_nbformat": 4
 },
 "nbformat": 4,
 "nbformat_minor": 2
}
