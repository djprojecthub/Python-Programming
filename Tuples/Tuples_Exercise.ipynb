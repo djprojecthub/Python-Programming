{
 "cells": [
  {
   "cell_type": "markdown",
   "metadata": {},
   "source": [
    "##### Tuples are similar to list and are used in similar scenarios except: <br/>\n",
    "##### 1.  Tuples are immutable and list are mutable. <br/>\n",
    "##### 2.  If you have data that doesn't change, implementing it as tuple will guarantee that it remains write-protected. <br/>"
   ]
  },
  {
   "cell_type": "markdown",
   "metadata": {},
   "source": [
    "1.  Sometimes, while dealing with tuples, we can have problem in which we need to extract only extreme K elements, <br/>i.e maximum and minimum K elements in Tuple. This problem can have applications across domains such as web development and Data Science. <br/>Let’s discuss certain ways in which this problem can be solved. <br/>\n",
    " \n",
    "\n",
    "    Input : test_tup = (3, 7, 1, 18, 9), k = 2 <br/>\n",
    "    Output : (3, 1, 9, 18) <br/>\n",
    "\n",
    "    Input : test_tup = (3, 7, 1), k=1 <br/>\n",
    "    Output : (1, 7)  "
   ]
  },
  {
   "cell_type": "code",
   "execution_count": 5,
   "metadata": {},
   "outputs": [
    {
     "name": "stdout",
     "output_type": "stream",
     "text": [
      "(1, 3, 9, 18)\n"
     ]
    }
   ],
   "source": [
    "# approach 1\n",
    "def extremeK(test_tup, k):\n",
    "    sorted_test_tup = sorted(test_tup)\n",
    "    return(tuple(sorted_test_tup[:k] + sorted_test_tup[-k:]))\n",
    "\n",
    "test_tup = (3,7,1,18,9)\n",
    "k = 2\n",
    "print(extremeK(test_tup, k))"
   ]
  },
  {
   "cell_type": "code",
   "execution_count": 9,
   "metadata": {},
   "outputs": [
    {
     "name": "stdout",
     "output_type": "stream",
     "text": [
      "(3, 5, 8, 20)\n"
     ]
    }
   ],
   "source": [
    "# approach 2\n",
    "import heapq\n",
    "\n",
    "test_tup = (5, 20, 3, 7, 6, 8)\n",
    "k = 2\n",
    "nLargest = heapq.nlargest(k, test_tup)\n",
    "nSmallest = heapq.nsmallest(k, test_tup)\n",
    "print(tuple(sorted(nLargest + nSmallest)))"
   ]
  }
 ],
 "metadata": {
  "kernelspec": {
   "display_name": "Python 3",
   "language": "python",
   "name": "python3"
  },
  "language_info": {
   "codemirror_mode": {
    "name": "ipython",
    "version": 3
   },
   "file_extension": ".py",
   "mimetype": "text/x-python",
   "name": "python",
   "nbconvert_exporter": "python",
   "pygments_lexer": "ipython3",
   "version": "3.11.4"
  },
  "orig_nbformat": 4
 },
 "nbformat": 4,
 "nbformat_minor": 2
}
